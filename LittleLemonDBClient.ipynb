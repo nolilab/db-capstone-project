{
 "cells": [
  {
   "cell_type": "markdown",
   "id": "a9f7f802-1b28-4fcc-9943-c33ebfe43495",
   "metadata": {},
   "source": [
    "**<h1 align=\"center\"> Database Engineer Capstone Project </h1>**\n",
    "**<h2 align=\"center\"> Little Lemon database client</h2>**\n",
    "**<h3 align=\"right\"> Prepared by: Nolly Gael Pierre</h3>**"
   ]
  },
  {
   "cell_type": "markdown",
   "id": "233f84fb-076a-4f3c-a7bf-8251c45f1a34",
   "metadata": {},
   "source": [
    "## **Section 1: Setting up the database**"
   ]
  },
  {
   "cell_type": "markdown",
   "id": "eaf53bca-adce-40ba-97df-18ab0ac32dce",
   "metadata": {},
   "source": [
    "#### **Importation of the mysql connector**"
   ]
  },
  {
   "cell_type": "code",
   "execution_count": 4,
   "id": "6ab734d1-e319-4b52-94ad-bb3e84308c62",
   "metadata": {},
   "outputs": [],
   "source": [
    "import mysql.connector as connector"
   ]
  },
  {
   "cell_type": "markdown",
   "id": "e6b581bb-142c-4a03-815f-cb2f5d2e0a30",
   "metadata": {},
   "source": [
    "#### **Establish connection between python and mysql**"
   ]
  },
  {
   "cell_type": "code",
   "execution_count": 6,
   "id": "12921509-c5fa-4c69-8197-f77daa13f639",
   "metadata": {},
   "outputs": [
    {
     "name": "stdout",
     "output_type": "stream",
     "text": [
      "Connection established\n"
     ]
    }
   ],
   "source": [
    "connection = connector.connect(user=\"root\", password=\"newpassword\", db = \"LittleLemondb\")\n",
    "print(\"Connection established\")"
   ]
  },
  {
   "cell_type": "code",
   "execution_count": 8,
   "id": "df1e21b3-dc77-428d-b472-e750f9cc7d05",
   "metadata": {},
   "outputs": [],
   "source": [
    "# cursor object\n",
    "cursor = connection.cursor()"
   ]
  },
  {
   "cell_type": "code",
   "execution_count": 10,
   "id": "1ce2b672-a549-4ce9-a583-86369a772b1b",
   "metadata": {},
   "outputs": [
    {
     "name": "stdout",
     "output_type": "stream",
     "text": [
      "littlelemondb\n"
     ]
    }
   ],
   "source": [
    "print(connection.database)"
   ]
  },
  {
   "cell_type": "markdown",
   "id": "af0e4869-6ef6-4249-ab11-6cfa75fe0dc0",
   "metadata": {},
   "source": [
    "##### Task two"
   ]
  },
  {
   "cell_type": "code",
   "execution_count": 12,
   "id": "31f4d88d-3acc-4723-808e-4e74ac9a1b53",
   "metadata": {},
   "outputs": [
    {
     "name": "stdout",
     "output_type": "stream",
     "text": [
      "('bookings',)\n",
      "('customers',)\n",
      "('delivery',)\n",
      "('menu_menuitems',)\n",
      "('menuitems',)\n",
      "('menus',)\n",
      "('orders',)\n",
      "('ordersview',)\n",
      "('staff',)\n"
     ]
    }
   ],
   "source": [
    "# show tables\n",
    "show_tables_query = \"show tables\"\n",
    "cursor.execute(show_tables_query)\n",
    "results = cursor.fetchall()\n",
    "for result in results:\n",
    "    print(result)"
   ]
  },
  {
   "cell_type": "markdown",
   "id": "4cb4360a-3eae-483f-a952-2f37793582f1",
   "metadata": {},
   "source": [
    "#### task 3"
   ]
  },
  {
   "cell_type": "code",
   "execution_count": 30,
   "id": "0ca0e095-6c79-492f-9b9b-95cd39146c32",
   "metadata": {},
   "outputs": [
    {
     "name": "stdout",
     "output_type": "stream",
     "text": [
      "Customer Name        \tphonenumber          \temail                 \t        Total Cost\n",
      "Sarah Miller         \t6789012345           \tsarah.miller@example.com  \t$85.50               \n",
      "Jessica Taylor       \t8901234567           \tjessica.taylor@example.com  \t$152.25              \n",
      "Laura Harris         \t0123456789           \tlaura.harris@example.com  \t$99.00               \n",
      "Michael Brown        \t3456789012           \tmichael.brown@example.com  \t$81.75               \n",
      "David Wilson         \t5678901234           \tdavid.wilson@example.com  \t$180.00              \n",
      "Chris Anderson       \t7890123456           \tchris.anderson@example.com  \t$135.00              \n",
      "Daniel Thomas        \t9012345678           \tdaniel.thomas@example.com  \t$167.25              \n"
     ]
    }
   ],
   "source": [
    "# name and contact details for every customer that has placed an order greater than $60\n",
    "join_query = \"\"\"select concat(c.clientfirstname,\" \",c.clientlastname) as \"Customer Name\",\n",
    "c.phonenumber, c.email, o.billamount as \"Total Cost\"\n",
    "from customers as c\n",
    "join bookings as b on c.clientid = b.clientid\n",
    "join orders as o on b.bookingid= o.bookingid\n",
    "where o.billamount > 60;\"\"\"\n",
    "cursor.execute(join_query)\n",
    "results = cursor.fetchall()\n",
    "# extract columns' names\n",
    "columns = cursor.column_names\n",
    "print(\"{:<20} \\t{:<20} \\t{:<20}  \\t{:>18}\".format(*columns))\n",
    "for result in results:\n",
    "    print(\"{:<20} \\t{:<20} \\t{:<20}  \\t${:<20.2f}\".format(*result))"
   ]
  }
 ],
 "metadata": {
  "kernelspec": {
   "display_name": "Python [conda env:base] *",
   "language": "python",
   "name": "conda-base-py"
  },
  "language_info": {
   "codemirror_mode": {
    "name": "ipython",
    "version": 3
   },
   "file_extension": ".py",
   "mimetype": "text/x-python",
   "name": "python",
   "nbconvert_exporter": "python",
   "pygments_lexer": "ipython3",
   "version": "3.12.7"
  }
 },
 "nbformat": 4,
 "nbformat_minor": 5
}
